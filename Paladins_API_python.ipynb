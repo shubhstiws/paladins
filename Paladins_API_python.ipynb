{
 "cells": [
  {
   "cell_type": "markdown",
   "metadata": {},
   "source": [
    "# Paladins API python implementation"
   ]
  },
  {
   "cell_type": "markdown",
   "metadata": {},
   "source": [
    "MIT License\n",
    "\n",
    "Copyright (c) [2018] [Shubhankar Tiwari]\n",
    "\n",
    "<!-- Place this tag where you want the button to render. -->\n",
    "<a class=\"github-button\" href=\"https://github.com/shubhstiws\" aria-label=\"Follow @shubhstiws on GitHub\">Follow @shubhstiws</a>\n",
    "<!-- Place this tag in your head or just before your close body tag. -->\n",
    "<script async defer src=\"https://buttons.github.io/buttons.js\"></script>\n",
    "\n",
    "[Paladins API Documentation](https://docs.google.com/document/d/1OFS-3ocSx-1Rvg4afAnEHlT3917MAK_6eJTR6rzr-BM/edit) "
   ]
  },
  {
   "cell_type": "markdown",
   "metadata": {},
   "source": [
    "#### Load libraries"
   ]
  },
  {
   "cell_type": "code",
   "execution_count": 87,
   "metadata": {},
   "outputs": [],
   "source": [
    "import requests\n",
    "import time\n",
    "import datetime\n",
    "import json\n",
    "import calendar\n",
    "import hashlib"
   ]
  },
  {
   "cell_type": "markdown",
   "metadata": {},
   "source": [
    "#### Create Atlanta, Georgia timestamp"
   ]
  },
  {
   "cell_type": "code",
   "execution_count": 217,
   "metadata": {},
   "outputs": [],
   "source": [
    "def tsgen():\n",
    "    ts = datetime.datetime.fromtimestamp(time.time()) #get current time\n",
    "    ts_temp = ts + datetime.timedelta(days=1)\n",
    "\n",
    "    #add 5 hours to get Georgia time (change this to time in your region)\n",
    "    if ts.hour > 18:\n",
    "        temp_hr = (ts.hour+5)-24\n",
    "        temp_day = ts_temp.day\n",
    "    else: \n",
    "        temp_hr = ts.hour+5\n",
    "        temp_day = ts.day\n",
    "\n",
    "    ts = datetime.datetime(ts.year,ts.month,temp_day,temp_hr,ts.minute,ts.second).strftime('%Y%m%d%H%M%S') \n",
    "    return ts"
   ]
  },
  {
   "cell_type": "markdown",
   "metadata": {},
   "source": [
    "#### Setup Keys and api"
   ]
  },
  {
   "cell_type": "code",
   "execution_count": 301,
   "metadata": {},
   "outputs": [],
   "source": [
    "devId = '****'\n",
    "authKey = '*'\n",
    "pal='http://api.paladins.com/paladinsapi.svc'\n",
    "smite = 'http://api.smitegame.com/smiteapi.svc'\n",
    "temp = tsgen()"
   ]
  },
  {
   "cell_type": "markdown",
   "metadata": {},
   "source": [
    "#### Create Signature"
   ]
  },
  {
   "cell_type": "code",
   "execution_count": 197,
   "metadata": {},
   "outputs": [],
   "source": [
    "def signature_id(method):\n",
    "    signature = str(devId)+str(method)+str(authKey)+str(temp)\n",
    "    signature = hashlib.md5(signature.encode('utf-8')).hexdigest()\n",
    "    return signature"
   ]
  },
  {
   "cell_type": "markdown",
   "metadata": {},
   "source": [
    "#### Create session"
   ]
  },
  {
   "cell_type": "code",
   "execution_count": 262,
   "metadata": {},
   "outputs": [],
   "source": [
    "def session_id(urlPrefix):\n",
    "    \n",
    "    signature = signature_id('createsession')\n",
    "\n",
    "    url = str(urlPrefix)+'/'+'createsessionJson'+'/'+str(devId)+'/'+str(signature)+'/'+str(temp)\n",
    "    sess = loadUrl(url)['session_id']\n",
    "    return sess"
   ]
  },
  {
   "cell_type": "markdown",
   "metadata": {},
   "source": [
    "#### Generate timestamp and session id"
   ]
  },
  {
   "cell_type": "code",
   "execution_count": 291,
   "metadata": {},
   "outputs": [],
   "source": [
    "def refresh():\n",
    "    temp = tsgen()\n",
    "    session = session_id(pal)\n",
    "    return temp,session\n",
    "temp,session=refresh()"
   ]
  },
  {
   "cell_type": "markdown",
   "metadata": {},
   "source": [
    "#### Generate URL"
   ]
  },
  {
   "cell_type": "code",
   "execution_count": 247,
   "metadata": {},
   "outputs": [],
   "source": [
    "def genUrl(method):\n",
    "    return pal+'/'+str(method)+'json'+'/'+devId+'/'+signature_id(method)+'/'+session+'/'+temp"
   ]
  },
  {
   "cell_type": "markdown",
   "metadata": {},
   "source": [
    "#### Load url()"
   ]
  },
  {
   "cell_type": "code",
   "execution_count": 213,
   "metadata": {},
   "outputs": [],
   "source": [
    "def loadUrl(url):\n",
    "    return json.loads(requests.get(url).content)"
   ]
  },
  {
   "cell_type": "markdown",
   "metadata": {},
   "source": [
    "### If you get timestamp exception run <font color='red'> refresh() </font>"
   ]
  },
  {
   "cell_type": "markdown",
   "metadata": {},
   "source": [
    "### APIs Connectivity:"
   ]
  },
  {
   "cell_type": "markdown",
   "metadata": {},
   "source": [
    "#### <font color='red'>Python ping</font>"
   ]
  },
  {
   "cell_type": "code",
   "execution_count": 215,
   "metadata": {},
   "outputs": [],
   "source": [
    "def ping():\n",
    "    method = 'pingjson'\n",
    "    url = pal+'/'+method\n",
    "    return loadUrl(url)"
   ]
  },
  {
   "cell_type": "markdown",
   "metadata": {},
   "source": [
    "#### <font color='red'>Python testsession</font>"
   ]
  },
  {
   "cell_type": "code",
   "execution_count": 232,
   "metadata": {},
   "outputs": [],
   "source": [
    "def testsession():\n",
    "    url=genUrl('testsession')\n",
    "    return loadUrl(url)"
   ]
  },
  {
   "cell_type": "markdown",
   "metadata": {},
   "source": [
    "#### <font color='red'>Python getplayer()</font>"
   ]
  },
  {
   "cell_type": "code",
   "execution_count": 238,
   "metadata": {},
   "outputs": [],
   "source": [
    "def getplayer(ign):\n",
    "    url = genUrl('getplayer')+'/'+str(ign)\n",
    "    return loadUrl(url)"
   ]
  },
  {
   "cell_type": "markdown",
   "metadata": {},
   "source": [
    "#### <font color='red'> Python gethirezserverstatus() </font>"
   ]
  },
  {
   "cell_type": "code",
   "execution_count": 240,
   "metadata": {},
   "outputs": [],
   "source": [
    "def gethirezserverstatus():\n",
    "    url=genUrl('gethirezserverstatus')\n",
    "    return loadUrl(url)"
   ]
  },
  {
   "cell_type": "markdown",
   "metadata": {},
   "source": [
    "### APIs"
   ]
  },
  {
   "cell_type": "markdown",
   "metadata": {},
   "source": [
    "#### <font color = 'red' > Python getdataused() </font>"
   ]
  },
  {
   "cell_type": "code",
   "execution_count": 242,
   "metadata": {},
   "outputs": [],
   "source": [
    "def getdataused():\n",
    "    url=genUrl('getdataused')\n",
    "    return loadUrl(url)"
   ]
  },
  {
   "cell_type": "markdown",
   "metadata": {},
   "source": [
    "#### <font color = 'red' > Python getdemodetails() </font>"
   ]
  },
  {
   "cell_type": "code",
   "execution_count": 252,
   "metadata": {},
   "outputs": [],
   "source": [
    "def getdemodetails(matchid):\n",
    "    url=genUrl('getdemodetails')+'/'+str(matchid)\n",
    "    return loadUrl(url)"
   ]
  },
  {
   "cell_type": "markdown",
   "metadata": {},
   "source": [
    "#### <font color = 'red' > Python getesportsproleaguedetails() </font> "
   ]
  },
  {
   "cell_type": "code",
   "execution_count": 253,
   "metadata": {},
   "outputs": [],
   "source": [
    "def getesportsproleaguedetails():\n",
    "    url=genUrl('getesportsproleaguedetails')\n",
    "    return loadUrl(url)"
   ]
  },
  {
   "cell_type": "markdown",
   "metadata": {},
   "source": [
    "#### <font color = 'red' > Python getfriends() </font> "
   ]
  },
  {
   "cell_type": "code",
   "execution_count": 275,
   "metadata": {},
   "outputs": [],
   "source": [
    "def getfriends(ign):\n",
    "    url=genUrl('getfriends')+'/'+str(ign)\n",
    "    return loadUrl(url)"
   ]
  },
  {
   "cell_type": "markdown",
   "metadata": {},
   "source": [
    "#### <font color = 'red' > Python getchampionranks() </font> "
   ]
  },
  {
   "cell_type": "code",
   "execution_count": 280,
   "metadata": {},
   "outputs": [],
   "source": [
    "def getchampionranks(ign):\n",
    "    url=genUrl('getchampionranks')+'/'+str(ign)\n",
    "    return loadUrl(url)"
   ]
  },
  {
   "cell_type": "markdown",
   "metadata": {},
   "source": [
    "#### <font color = 'red' > Python getmatchhistory() </font> "
   ]
  },
  {
   "cell_type": "code",
   "execution_count": 282,
   "metadata": {},
   "outputs": [],
   "source": [
    "def getmatchhistory(ign):\n",
    "    url=genUrl('getmatchhistory')+'/'+str(ign)\n",
    "    return loadUrl(url)"
   ]
  },
  {
   "cell_type": "markdown",
   "metadata": {},
   "source": [
    "#### <font color = 'red' > Python getplayerachievements() </font> "
   ]
  },
  {
   "cell_type": "code",
   "execution_count": 299,
   "metadata": {},
   "outputs": [],
   "source": [
    "def getplayerachievements(ign):\n",
    "    id = getplayer(ign)[0]['Id']\n",
    "    url=genUrl('getplayerachievements')+'/'+str(id)\n",
    "    return loadUrl(url)"
   ]
  }
 ],
 "metadata": {
  "kernelspec": {
   "display_name": "Python [conda env:tf15]",
   "language": "python",
   "name": "conda-env-tf15-py"
  },
  "language_info": {
   "codemirror_mode": {
    "name": "ipython",
    "version": 3
   },
   "file_extension": ".py",
   "mimetype": "text/x-python",
   "name": "python",
   "nbconvert_exporter": "python",
   "pygments_lexer": "ipython3",
   "version": "3.6.4"
  }
 },
 "nbformat": 4,
 "nbformat_minor": 2
}
