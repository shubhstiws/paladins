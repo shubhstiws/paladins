{
 "cells": [
  {
   "cell_type": "markdown",
   "metadata": {},
   "source": [
    "# Paladins API python implementation"
   ]
  },
  {
   "cell_type": "markdown",
   "metadata": {},
   "source": [
    "MIT License\n",
    "\n",
    "Copyright (c) [2018] [Shubhankar Tiwari]\n",
    "\n",
    "<!-- Place this tag where you want the button to render. -->\n",
    "<a class=\"github-button\" href=\"https://github.com/shubhstiws\" aria-label=\"Follow @shubhstiws on GitHub\">Follow @shubhstiws</a>\n",
    "<!-- Place this tag in your head or just before your close body tag. -->\n",
    "<script async defer src=\"https://buttons.github.io/buttons.js\"></script>\n",
    "\n",
    "[Paladins API Documentation](https://docs.google.com/document/d/1OFS-3ocSx-1Rvg4afAnEHlT3917MAK_6eJTR6rzr-BM/edit) "
   ]
  },
  {
   "cell_type": "markdown",
   "metadata": {},
   "source": [
    "#### Load libraries"
   ]
  },
  {
   "cell_type": "code",
   "execution_count": 100,
   "metadata": {},
   "outputs": [],
   "source": [
    "import requests\n",
    "import time\n",
    "import datetime\n",
    "import json\n",
    "import calendar\n",
    "import hashlib"
   ]
  },
  {
   "cell_type": "code",
   "execution_count": 143,
   "metadata": {},
   "outputs": [],
   "source": [
    "def jenos():\n",
    "    print ('Step into the light!')"
   ]
  },
  {
   "cell_type": "markdown",
   "metadata": {},
   "source": [
    "#### Setting global variables"
   ]
  },
  {
   "cell_type": "code",
   "execution_count": 101,
   "metadata": {},
   "outputs": [],
   "source": [
    "devId=''\n",
    "authKey=''\n",
    "temp=''\n",
    "pal=''\n",
    "smite=''\n",
    "loc_time = ''\n",
    "session = ''"
   ]
  },
  {
   "cell_type": "markdown",
   "metadata": {},
   "source": [
    "#### Setup DevId and authentication Key"
   ]
  },
  {
   "cell_type": "code",
   "execution_count": 102,
   "metadata": {},
   "outputs": [],
   "source": [
    "def keys(d,a):\n",
    "    global devId \n",
    "    devId = str(d)\n",
    "    global authKey \n",
    "    authKey = str(a)"
   ]
  },
  {
   "cell_type": "code",
   "execution_count": 107,
   "metadata": {},
   "outputs": [],
   "source": [
    "keys('2529','408FA56D176145DA83E8FB6AE32EBB2D')"
   ]
  },
  {
   "cell_type": "markdown",
   "metadata": {},
   "source": [
    "#### Load URL"
   ]
  },
  {
   "cell_type": "code",
   "execution_count": 103,
   "metadata": {},
   "outputs": [],
   "source": [
    "def loadUrl(url):\n",
    "    return json.loads(requests.get(url).content)"
   ]
  },
  {
   "cell_type": "markdown",
   "metadata": {},
   "source": [
    "#### Create Atlanta, Georgia timestamp"
   ]
  },
  {
   "cell_type": "code",
   "execution_count": 104,
   "metadata": {},
   "outputs": [],
   "source": [
    "def tsgen():\n",
    "    #setting signature with local_timestamp\n",
    "    local_time = datetime.datetime.fromtimestamp(time.time()).strftime('%Y%m%d%H%M%S')\n",
    "    global loc_time \n",
    "    loc_time = local_time\n",
    "    signature = str(devId)+str('createsession')+str(authKey)+str(local_time)\n",
    "    signature = hashlib.md5(signature.encode('utf-8')).hexdigest()\n",
    "    \n",
    "    #attempting to create session with local_timestamp\n",
    "    url = str(pal)+'/'+'createsessionJson'+'/'+str(devId)+'/'+str(signature)+'/'+str(local_time)\n",
    "    sess = loadUrl(url)\n",
    "    server_time = sess['timestamp']\n",
    "    parsed_server_time = datetime.datetime.strptime(server_time, '%m/%d/%Y %I:%M:%S %p')\n",
    "    local_time = datetime.datetime.fromtimestamp(time.time())\n",
    "    \n",
    "    #getting the wrong timestamp from server to correct our local timestamp\n",
    "    if local_time > parsed_server_time: diff = local_time - (local_time - parsed_server_time)\n",
    "    if local_time < parsed_server_time: diff = local_time + (parsed_server_time - local_time)\n",
    "    else: diff = local_time\n",
    "    return diff.strftime('%Y%m%d%H%M%S')"
   ]
  },
  {
   "cell_type": "markdown",
   "metadata": {},
   "source": [
    "#### Create Signature"
   ]
  },
  {
   "cell_type": "code",
   "execution_count": 105,
   "metadata": {},
   "outputs": [],
   "source": [
    "def signature_id(method):\n",
    "    signature = str(devId)+str(method)+str(authKey)+str(temp)\n",
    "    signature = hashlib.md5(signature.encode('utf-8')).hexdigest()\n",
    "    return signature"
   ]
  },
  {
   "cell_type": "markdown",
   "metadata": {},
   "source": [
    "#### Create session"
   ]
  },
  {
   "cell_type": "code",
   "execution_count": 106,
   "metadata": {},
   "outputs": [],
   "source": [
    "def session_id(urlPrefix):\n",
    "    \n",
    "    signature = signature_id('createsession')\n",
    "\n",
    "    url = str(urlPrefix)+'/'+'createsessionJson'+'/'+str(devId)+'/'+str(signature)+'/'+str(temp)\n",
    "    sess = loadUrl(url)['session_id']\n",
    "    return sess"
   ]
  },
  {
   "cell_type": "markdown",
   "metadata": {},
   "source": [
    "#### Setup or Refresh API, session"
   ]
  },
  {
   "cell_type": "code",
   "execution_count": 108,
   "metadata": {},
   "outputs": [],
   "source": [
    "def setup():\n",
    "    global pal\n",
    "    pal ='http://api.paladins.com/paladinsapi.svc'\n",
    "    global smite \n",
    "    smite = 'http://api.smitegame.com/smiteapi.svc'\n",
    "    global temp \n",
    "    temp = tsgen()\n",
    "    global session\n",
    "    session = session_id(pal)"
   ]
  },
  {
   "cell_type": "code",
   "execution_count": 120,
   "metadata": {},
   "outputs": [],
   "source": [
    "setup()"
   ]
  },
  {
   "cell_type": "markdown",
   "metadata": {},
   "source": [
    "#### Check if session valid, create new if not"
   ]
  },
  {
   "cell_type": "code",
   "execution_count": 109,
   "metadata": {},
   "outputs": [],
   "source": [
    "def check():\n",
    "    diff = datetime.datetime.fromtimestamp(time.time())-datetime.datetime.strptime(loc_time,'%Y%m%d%H%M%S')\n",
    "    if diff.seconds > 899:\n",
    "        setup()"
   ]
  },
  {
   "cell_type": "markdown",
   "metadata": {},
   "source": [
    "#### Generate URL"
   ]
  },
  {
   "cell_type": "code",
   "execution_count": 110,
   "metadata": {},
   "outputs": [],
   "source": [
    "def genUrl(method):\n",
    "    return pal+'/'+str(method)+'json'+'/'+devId+'/'+signature_id(method)+'/'+session+'/'+temp"
   ]
  },
  {
   "cell_type": "markdown",
   "metadata": {},
   "source": [
    "### If you get timestamp exception manually run <font color='red'> setup() </font>"
   ]
  },
  {
   "cell_type": "markdown",
   "metadata": {},
   "source": [
    "### APIs Connectivity:"
   ]
  },
  {
   "cell_type": "markdown",
   "metadata": {},
   "source": [
    "#### <font color='red'>Python ping</font>"
   ]
  },
  {
   "cell_type": "code",
   "execution_count": 144,
   "metadata": {},
   "outputs": [],
   "source": [
    "def ping():\n",
    "    check()\n",
    "    method = 'pingjson'\n",
    "    url = pal+'/'+method\n",
    "    return loadUrl(url)"
   ]
  },
  {
   "cell_type": "code",
   "execution_count": 145,
   "metadata": {},
   "outputs": [
    {
     "data": {
      "text/plain": [
       "'PaladinsAPI (ver 0.67.2520.0) [PATCH - OB67] - Ping successful. Server Date:3/25/2018 5:52:21 PM'"
      ]
     },
     "execution_count": 145,
     "metadata": {},
     "output_type": "execute_result"
    }
   ],
   "source": [
    "ping()"
   ]
  },
  {
   "cell_type": "markdown",
   "metadata": {},
   "source": [
    "#### <font color='red'>Python testsession</font>"
   ]
  },
  {
   "cell_type": "code",
   "execution_count": 130,
   "metadata": {},
   "outputs": [],
   "source": [
    "def testsession():\n",
    "    check()\n",
    "    url=genUrl('testsession')\n",
    "    return loadUrl(url)"
   ]
  },
  {
   "cell_type": "code",
   "execution_count": 125,
   "metadata": {},
   "outputs": [
    {
     "data": {
      "text/plain": [
       "'This was a successful test with the following parameters added: developer: 2529 time: 3/25/2018 5:29:09 PM signature: 88609be0b5bb280b8ca8cfb01fd0f8ea session: 3241CF21AB30479EB59D220D0769F50C'"
      ]
     },
     "execution_count": 125,
     "metadata": {},
     "output_type": "execute_result"
    }
   ],
   "source": [
    "testsession()"
   ]
  },
  {
   "cell_type": "markdown",
   "metadata": {},
   "source": [
    "#### <font color='red'>Python getplayer()</font>"
   ]
  },
  {
   "cell_type": "code",
   "execution_count": 131,
   "metadata": {},
   "outputs": [],
   "source": [
    "def getplayer(ign):\n",
    "    check()\n",
    "    url = genUrl('getplayer')+'/'+str(ign)\n",
    "    return loadUrl(url)"
   ]
  },
  {
   "cell_type": "markdown",
   "metadata": {},
   "source": [
    "#### <font color='red'> Python gethirezserverstatus() </font>"
   ]
  },
  {
   "cell_type": "code",
   "execution_count": 132,
   "metadata": {},
   "outputs": [],
   "source": [
    "def gethirezserverstatus():\n",
    "    check()\n",
    "    url=genUrl('gethirezserverstatus')\n",
    "    return loadUrl(url)"
   ]
  },
  {
   "cell_type": "code",
   "execution_count": 133,
   "metadata": {},
   "outputs": [
    {
     "data": {
      "text/plain": [
       "[{'entry_datetime': '2018-03-25 17:30:16.120',\n",
       "  'ret_msg': None,\n",
       "  'status': 'UP',\n",
       "  'version': '0.67.2523.4'}]"
      ]
     },
     "execution_count": 133,
     "metadata": {},
     "output_type": "execute_result"
    }
   ],
   "source": [
    "gethirezserverstatus()"
   ]
  },
  {
   "cell_type": "markdown",
   "metadata": {},
   "source": [
    "### APIs"
   ]
  },
  {
   "cell_type": "markdown",
   "metadata": {},
   "source": [
    "#### <font color = 'red' > Python getdataused() </font>"
   ]
  },
  {
   "cell_type": "code",
   "execution_count": 134,
   "metadata": {},
   "outputs": [],
   "source": [
    "def getdataused():\n",
    "    check()\n",
    "    url=genUrl('getdataused')\n",
    "    return loadUrl(url)"
   ]
  },
  {
   "cell_type": "code",
   "execution_count": 135,
   "metadata": {},
   "outputs": [
    {
     "data": {
      "text/plain": [
       "[{'Active_Sessions': 1,\n",
       "  'Concurrent_Sessions': 50,\n",
       "  'Request_Limit_Daily': 7500,\n",
       "  'Session_Cap': 500,\n",
       "  'Session_Time_Limit': 15,\n",
       "  'Total_Requests_Today': 4,\n",
       "  'Total_Sessions_Today': 2,\n",
       "  'ret_msg': None}]"
      ]
     },
     "execution_count": 135,
     "metadata": {},
     "output_type": "execute_result"
    }
   ],
   "source": [
    "getdataused()"
   ]
  },
  {
   "cell_type": "markdown",
   "metadata": {},
   "source": [
    "#### <font color = 'red' > Python getdemodetails() </font>"
   ]
  },
  {
   "cell_type": "code",
   "execution_count": 136,
   "metadata": {},
   "outputs": [],
   "source": [
    "def getdemodetails(matchid):\n",
    "    check()\n",
    "    url=genUrl('getdemodetails')+'/'+str(matchid)\n",
    "    return loadUrl(url)"
   ]
  },
  {
   "cell_type": "markdown",
   "metadata": {},
   "source": [
    "#### <font color = 'red' > Python getesportsproleaguedetails() </font> "
   ]
  },
  {
   "cell_type": "code",
   "execution_count": 137,
   "metadata": {},
   "outputs": [],
   "source": [
    "def getesportsproleaguedetails():\n",
    "    check()\n",
    "    url=genUrl('getesportsproleaguedetails')\n",
    "    return loadUrl(url)"
   ]
  },
  {
   "cell_type": "markdown",
   "metadata": {},
   "source": [
    "#### <font color = 'red' > Python getfriends() </font> "
   ]
  },
  {
   "cell_type": "code",
   "execution_count": 138,
   "metadata": {},
   "outputs": [],
   "source": [
    "def getfriends(ign):\n",
    "    check()\n",
    "    url=genUrl('getfriends')+'/'+str(ign)\n",
    "    return loadUrl(url)"
   ]
  },
  {
   "cell_type": "markdown",
   "metadata": {},
   "source": [
    "#### <font color = 'red' > Python getchampionranks() </font> "
   ]
  },
  {
   "cell_type": "code",
   "execution_count": 139,
   "metadata": {},
   "outputs": [],
   "source": [
    "def getchampionranks(ign):\n",
    "    check()\n",
    "    url=genUrl('getchampionranks')+'/'+str(ign)\n",
    "    return loadUrl(url)"
   ]
  },
  {
   "cell_type": "markdown",
   "metadata": {},
   "source": [
    "#### <font color = 'red' > Python getmatchhistory() </font> "
   ]
  },
  {
   "cell_type": "code",
   "execution_count": 140,
   "metadata": {},
   "outputs": [],
   "source": [
    "def getmatchhistory(ign):\n",
    "    check()\n",
    "    url=genUrl('getmatchhistory')+'/'+str(ign)\n",
    "    return loadUrl(url)"
   ]
  },
  {
   "cell_type": "markdown",
   "metadata": {},
   "source": [
    "#### <font color = 'red' > Python getplayerachievements() </font> "
   ]
  },
  {
   "cell_type": "code",
   "execution_count": 141,
   "metadata": {},
   "outputs": [],
   "source": [
    "def getplayerachievements(ign):\n",
    "    check()\n",
    "    id = getplayer(ign)[0]['Id']\n",
    "    url=genUrl('getplayerachievements')+'/'+str(id)\n",
    "    return loadUrl(url)"
   ]
  }
 ],
 "metadata": {
  "kernelspec": {
   "display_name": "Python [conda env:tf15]",
   "language": "python",
   "name": "conda-env-tf15-py"
  },
  "language_info": {
   "codemirror_mode": {
    "name": "ipython",
    "version": 3
   },
   "file_extension": ".py",
   "mimetype": "text/x-python",
   "name": "python",
   "nbconvert_exporter": "python",
   "pygments_lexer": "ipython3",
   "version": "3.6.4"
  }
 },
 "nbformat": 4,
 "nbformat_minor": 2
}
